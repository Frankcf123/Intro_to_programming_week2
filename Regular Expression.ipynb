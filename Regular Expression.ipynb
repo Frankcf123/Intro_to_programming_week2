{
 "cells": [
  {
   "cell_type": "markdown",
   "metadata": {
    "collapsed": true
   },
   "source": [
    "# Regular Expression"
   ]
  },
  {
   "cell_type": "code",
   "execution_count": 1,
   "metadata": {
    "collapsed": true
   },
   "outputs": [],
   "source": [
    "import re"
   ]
  },
  {
   "cell_type": "code",
   "execution_count": 3,
   "metadata": {},
   "outputs": [
    {
     "data": {
      "text/plain": [
       "[]"
      ]
     },
     "execution_count": 3,
     "metadata": {},
     "output_type": "execute_result"
    }
   ],
   "source": [
    "s=\"abcdef\"\n",
    "re.findall(r'aa',s)"
   ]
  },
  {
   "cell_type": "code",
   "execution_count": 4,
   "metadata": {},
   "outputs": [
    {
     "data": {
      "text/plain": [
       "['a']"
      ]
     },
     "execution_count": 4,
     "metadata": {},
     "output_type": "execute_result"
    }
   ],
   "source": [
    "ls=[\"asd\",\"test\",\"Aasdsa\",\"bgfgf\"]\n",
    "re.findall(r'a',s)"
   ]
  },
  {
   "cell_type": "markdown",
   "metadata": {},
   "source": [
    "## 1.re.match\n",
    "> 只匹配字符串的开始 re.match(pattern, string, flags=0)"
   ]
  },
  {
   "cell_type": "code",
   "execution_count": 24,
   "metadata": {},
   "outputs": [
    {
     "name": "stdout",
     "output_type": "stream",
     "text": [
      "(0, 3)\n"
     ]
    }
   ],
   "source": [
    "print(re.match('www', 'www.codingpupils.com').span())  # 在起始位置匹配"
   ]
  },
  {
   "cell_type": "code",
   "execution_count": 25,
   "metadata": {},
   "outputs": [
    {
     "name": "stdout",
     "output_type": "stream",
     "text": [
      "None\n"
     ]
    }
   ],
   "source": [
    "print(re.match('WWW', 'www.codingpupils.com'))  # 在起始位置匹配"
   ]
  },
  {
   "cell_type": "code",
   "execution_count": 30,
   "metadata": {},
   "outputs": [
    {
     "name": "stdout",
     "output_type": "stream",
     "text": [
      "(0, 3)\n"
     ]
    }
   ],
   "source": [
    "print(re.match('WWW', 'www.codingpupils.com',re.I).span())"
   ]
  },
  {
   "cell_type": "markdown",
   "metadata": {},
   "source": [
    "> ```\n",
    " re.I 对大小写不敏感\n",
    " re.M 多行匹配\n",
    " re.S 使 . 匹配包括换行在内的所有字符\n",
    " re.U 根据Unicode字符集解析字符。这个标志影响 \\w, \\W, \\b, \\B.\n",
    " re.X 该标志通过给予你更灵活的格式以便你将正则表达式写得更易于理解\n",
    " ```"
   ]
  },
  {
   "cell_type": "markdown",
   "metadata": {},
   "source": [
    "## 2.re.search\n",
    "> 匹配全部字符串 re.search(pattern, string, flags=0)\n"
   ]
  },
  {
   "cell_type": "code",
   "execution_count": 59,
   "metadata": {},
   "outputs": [],
   "source": [
    "line = \"I used 3 to study in melbourne\"\n",
    "\n",
    "searchobj=re.search( r'^(.*) used (\\w) (.*?)( .*)$', line, re.M|re.I)\n"
   ]
  },
  {
   "cell_type": "code",
   "execution_count": 61,
   "metadata": {},
   "outputs": [
    {
     "name": "stdout",
     "output_type": "stream",
     "text": [
      "Search group : I used 3 to study in melbourne\n",
      "Search group1 : I\n",
      "Search group2 : 3\n",
      "Search group3 : to\n",
      "Search group3 :  study in melbourne\n"
     ]
    }
   ],
   "source": [
    "print(\"Search group :\",searchobj .group())\n",
    "print(\"Search group1 :\",searchobj .group(1))\n",
    "print(\"Search group2 :\",searchobj .group(2))\n",
    "print(\"Search group3 :\",searchobj .group(3))\n",
    "print(\"Search group3 :\",searchobj .group(4))"
   ]
  },
  {
   "cell_type": "markdown",
   "metadata": {},
   "source": [
    "> ```\n",
    "^\t   匹配字符串的开头\n",
    "$\t   匹配字符串的末尾。\n",
    ".\t   匹配任意字符，除了换行符，当re.DOTALL标记被指定时，则可以匹配包括换行符的任意字符。\n",
    "[...]\t用来表示一组字符,单独列出：[amk] 匹配 'a'，'m'或'k'\n",
    "[^...]\t不在[]中的字符：[^abc] 匹配除了a,b,c之外的字符。\n",
    "a| b\t匹配a或b\n",
    "\\w\t匹配字母数字及下划线\n",
    "\\W\t匹配非字母数字及下划线\n",
    "\\s\t匹配任意空白字符，等价于 [\\t\\n\\r\\f].\n",
    "\\S\t匹配任意非空字符\n",
    "\\d\t匹配任意数字，等价于 [0-9].\n",
    "\\D\t匹配任意非数字\n",
    "\\A\t匹配字符串开始\n",
    "\\Z\t匹配字符串结束，如果是存在换行，只匹配到换行前的结束字符串。c\n",
    "\\z\t匹配字符串结束\n",
    "\\G\t匹配最后匹配完成的位置。\n",
    "\\b\t匹配一个单词边界，也就是指单词和空格间的位置。例如， 'er\\b' 可以匹配\"never\" 中的 'er'，但不能匹配 \"verb\" 中的 'er'。\n",
    "\\B\t匹配非单词边界。'er\\B' 能匹配 \"verb\" 中的 'er'，但不能匹配 \"never\" 中的 'er'。\n",
    "\\n, \\t, 等.\t匹配一个换行符。匹配一个制表符。等\n",
    "\\1...\\9\t匹配第n个分组的内容。\n",
    "\\10\t匹配第n个分组的内容，如果它经匹配。否则指的是八进制字符码的表达式。\n",
    "```"
   ]
  },
  {
   "cell_type": "markdown",
   "metadata": {},
   "source": [
    "> ```\n",
    "  [Pp]ython\t匹配 \"Python\" 或 \"python\"\n",
    "   rub[ye]\t匹配 \"ruby\" 或 \"rube\"\n",
    "   [aeiou]\t匹配中括号内的任意一个字母\n",
    "   [0-9]\t匹配任何数字。类似于 [0123456789]\n",
    "   [a-z]\t匹配任何小写字母\n",
    "   [A-Z]\t匹配任何大写字母\n",
    "   [a-zA-Z0-9]\t匹配任何字母及数字\n",
    "   [^aeiou]\t除了aeiou字母以外的所有字符\n",
    "   [^0-9]\t匹配除了数字外的字符\n",
    "```"
   ]
  },
  {
   "cell_type": "code",
   "execution_count": 64,
   "metadata": {},
   "outputs": [
    {
     "ename": "AttributeError",
     "evalue": "'NoneType' object has no attribute 'group'",
     "output_type": "error",
     "traceback": [
      "\u001b[1;31m---------------------------------------------------------------------------\u001b[0m",
      "\u001b[1;31mAttributeError\u001b[0m                            Traceback (most recent call last)",
      "\u001b[1;32m<ipython-input-64-fbb4e0d98d6c>\u001b[0m in \u001b[0;36m<module>\u001b[1;34m()\u001b[0m\n\u001b[0;32m      1\u001b[0m \u001b[0msearchobj\u001b[0m\u001b[1;33m=\u001b[0m\u001b[0mre\u001b[0m\u001b[1;33m.\u001b[0m\u001b[0msearch\u001b[0m\u001b[1;33m(\u001b[0m \u001b[1;34mr'^(.*) used [0-1] (.*?)( .*)$'\u001b[0m\u001b[1;33m,\u001b[0m \u001b[0mline\u001b[0m\u001b[1;33m,\u001b[0m \u001b[0mre\u001b[0m\u001b[1;33m.\u001b[0m\u001b[0mM\u001b[0m\u001b[1;33m|\u001b[0m\u001b[0mre\u001b[0m\u001b[1;33m.\u001b[0m\u001b[0mI\u001b[0m\u001b[1;33m)\u001b[0m\u001b[1;33m\u001b[0m\u001b[0m\n\u001b[1;32m----> 2\u001b[1;33m \u001b[0mprint\u001b[0m\u001b[1;33m(\u001b[0m\u001b[1;34m\"Search group :\"\u001b[0m\u001b[1;33m,\u001b[0m\u001b[0msearchobj\u001b[0m \u001b[1;33m.\u001b[0m\u001b[0mgroup\u001b[0m\u001b[1;33m(\u001b[0m\u001b[1;33m)\u001b[0m\u001b[1;33m)\u001b[0m\u001b[1;33m\u001b[0m\u001b[0m\n\u001b[0m",
      "\u001b[1;31mAttributeError\u001b[0m: 'NoneType' object has no attribute 'group'"
     ]
    }
   ],
   "source": [
    "searchobj=re.search( r'^(.*) used [0-1] (.*?)( .*)$', line, re.M|re.I)\n",
    "print(\"Search group :\",searchobj .group())"
   ]
  },
  {
   "cell_type": "markdown",
   "metadata": {},
   "source": [
    "## 3.re.sub"
   ]
  },
  {
   "cell_type": "markdown",
   "metadata": {},
   "source": [
    "> 检索和替换已有字符 re.sub(pattern, repl, string, count=0, flags=0)\n"
   ]
  },
  {
   "cell_type": "code",
   "execution_count": 65,
   "metadata": {},
   "outputs": [
    {
     "data": {
      "text/plain": [
       "'I used 3 to study '"
      ]
     },
     "execution_count": 65,
     "metadata": {},
     "output_type": "execute_result"
    }
   ],
   "source": [
    "line = \"I used 3 to study in melbourne\"\n",
    "new_line = re.sub(r'in.*$', \"\", line) #.*表示多个字符\n",
    "new_line"
   ]
  },
  {
   "cell_type": "code",
   "execution_count": null,
   "metadata": {
    "collapsed": true
   },
   "outputs": [],
   "source": []
  }
 ],
 "metadata": {
  "kernelspec": {
   "display_name": "Python 3",
   "language": "python",
   "name": "python3"
  },
  "language_info": {
   "codemirror_mode": {
    "name": "ipython",
    "version": 3
   },
   "file_extension": ".py",
   "mimetype": "text/x-python",
   "name": "python",
   "nbconvert_exporter": "python",
   "pygments_lexer": "ipython3",
   "version": "3.6.2"
  }
 },
 "nbformat": 4,
 "nbformat_minor": 2
}
